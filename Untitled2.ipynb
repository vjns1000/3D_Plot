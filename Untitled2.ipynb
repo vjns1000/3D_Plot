{
 "cells": [
  {
   "cell_type": "code",
   "execution_count": 1,
   "id": "be98b754",
   "metadata": {},
   "outputs": [],
   "source": [
    "import pyopenms"
   ]
  },
  {
   "cell_type": "code",
   "execution_count": 2,
   "id": "09409204",
   "metadata": {},
   "outputs": [],
   "source": [
    " import pandas as pd"
   ]
  },
  {
   "cell_type": "code",
   "execution_count": null,
   "id": "79a9bf7c",
   "metadata": {},
   "outputs": [],
   "source": []
  },
  {
   "cell_type": "code",
   "execution_count": 3,
   "id": "f93c6c22",
   "metadata": {},
   "outputs": [],
   "source": [
    "from pyopenms import *\n",
    "import pandas as pd\n",
    "from urllib.request import urlretrieve\n",
    "url = 'https://raw.githubusercontent.com/OpenMS/pyopenms-docs/master/src/data/'\n",
    "urlretrieve(url+'BSA1.mzML', 'BSA1.mzML')\n",
    "exp = MSExperiment()\n",
    "MzMLFile().load('BSA1.mzML', exp)"
   ]
  },
  {
   "cell_type": "code",
   "execution_count": 9,
   "id": "4633046d",
   "metadata": {},
   "outputs": [
    {
     "data": {
      "text/plain": [
       "454"
      ]
     },
     "execution_count": 9,
     "metadata": {},
     "output_type": "execute_result"
    }
   ],
   "source": [
    "retention_times=[]\n",
    "mz= []\n",
    "for spec in exp:\n",
    "    if(spec.getMSLevel() == 1):\n",
    "        mz,intensity = spec.get_peaks()\n",
    "        retention_times = [spec.getRT()] * len(mz)\n",
    "len(mz)"
   ]
  },
  {
   "cell_type": "code",
   "execution_count": 11,
   "id": "2c33627e",
   "metadata": {},
   "outputs": [],
   "source": [
    "retention_times = []\n",
    "mz = []\n",
    "Intensity = []\n",
    "for spec in exp:\n",
    "    if(spec.getMSLevel() == 1):\n",
    "        for peak in spec:\n",
    "            mz.append(peak.getMZ())\n",
    "            Intensity.append(peak.getIntensity())\n",
    "            retention_times = [spec.getRT()] * len(mz)\n"
   ]
  },
  {
   "cell_type": "code",
   "execution_count": 22,
   "id": "575ae56e",
   "metadata": {},
   "outputs": [],
   "source": [
    "data = {\"MZ\": mz,  \"Intensity\": Intensity, \"RT\": retention_times}"
   ]
  },
  {
   "cell_type": "code",
   "execution_count": 23,
   "id": "5ee9c170",
   "metadata": {},
   "outputs": [
    {
     "name": "stdout",
     "output_type": "stream",
     "text": [
      "                MZ    Intensity           RT\n",
      "0       300.089765  3431.026123  2499.517822\n",
      "1       300.181327  1181.808960  2499.517822\n",
      "2       300.202675  1516.174561  2499.517822\n",
      "3       300.298289  1719.854736  2499.517822\n",
      "4       300.334598  1115.259644  2499.517822\n",
      "...            ...          ...          ...\n",
      "355231  788.887603  4342.828125  2499.517822\n",
      "355232  789.389237  4295.429688  2499.517822\n",
      "355233  793.924408  6815.886230  2499.517822\n",
      "355234  794.424814  6658.901855  2499.517822\n",
      "355235  794.925438  3381.129150  2499.517822\n",
      "\n",
      "[355236 rows x 3 columns]\n"
     ]
    }
   ],
   "source": [
    "df = pd.DataFrame(data, columns = [\"MZ\", \"Intensity\",\"RT\"])\n",
    "print(df)"
   ]
  },
  {
   "cell_type": "code",
   "execution_count": null,
   "id": "733a5144",
   "metadata": {},
   "outputs": [],
   "source": []
  },
  {
   "cell_type": "code",
   "execution_count": 20,
   "id": "ec923cb0",
   "metadata": {},
   "outputs": [
    {
     "data": {
      "text/plain": [
       "355236"
      ]
     },
     "execution_count": 20,
     "metadata": {},
     "output_type": "execute_result"
    }
   ],
   "source": [
    "len(Intensity)"
   ]
  },
  {
   "cell_type": "code",
   "execution_count": null,
   "id": "f4e1ab4d",
   "metadata": {},
   "outputs": [],
   "source": [
    "# Import libraries\n",
    "import matplotlib.pyplot as plt\n",
    "from mpl_toolkits.mplot3d import Axes3D\n",
    "import numpy as np\n",
    "\n",
    "\n"
   ]
  },
  {
   "cell_type": "code",
   "execution_count": null,
   "id": "999d83d5",
   "metadata": {},
   "outputs": [],
   "source": [
    "import matplotlib.pyplot as plt\n",
    "import numpy as np\n",
    "\n",
    "# Fixing random state for reproducibility\n",
    "np.random.seed(19680801)\n",
    "\n",
    "\n",
    "fig = plt.figure()\n",
    "ax = fig.add_subplot(projection='3d')\n",
    "\n",
    "colors = ['r', 'g', 'b', 'y']\n",
    "yticks = [3, 2, 1, 0]\n",
    "for c, k in zip(colors, yticks):\n",
    "    # Generate the random data for the y=k 'layer'.\n",
    "    xs = np.arange(20)\n",
    "    ys = np.random.rand(20)\n",
    "\n",
    "    # You can provide either a single color or an array with the same length as\n",
    "    # xs and ys. To demonstrate this, we color the first bar of each set cyan.\n",
    "    cs = [c] * len(xs)\n",
    "    cs[0] = 'c'\n",
    "\n",
    "    # Plot the bar graph given by xs and ys on the plane y=k with 80% opacity.\n",
    "    ax.bar(Intensity, retention_times, mz, zdir='y', color=cs, alpha=0.8)\n",
    "\n",
    "ax.set_xlabel('X')\n",
    "ax.set_ylabel('Y')\n",
    "ax.set_zlabel('Z')\n",
    "\n",
    "# On the y axis let's only label the discrete values that we have data for.\n",
    "ax.set_yticks(yticks)\n",
    "\n",
    "plt.show()"
   ]
  },
  {
   "cell_type": "code",
   "execution_count": null,
   "id": "09e485a8",
   "metadata": {},
   "outputs": [],
   "source": []
  }
 ],
 "metadata": {
  "kernelspec": {
   "display_name": "Python 3 (ipykernel)",
   "language": "python",
   "name": "python3"
  },
  "language_info": {
   "codemirror_mode": {
    "name": "ipython",
    "version": 3
   },
   "file_extension": ".py",
   "mimetype": "text/x-python",
   "name": "python",
   "nbconvert_exporter": "python",
   "pygments_lexer": "ipython3",
   "version": "3.9.12"
  }
 },
 "nbformat": 4,
 "nbformat_minor": 5
}
